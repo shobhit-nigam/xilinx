{
 "cells": [
  {
   "cell_type": "code",
   "execution_count": 1,
   "metadata": {},
   "outputs": [],
   "source": [
    "def funca():\n",
    "    print('plain Ganesha')"
   ]
  },
  {
   "cell_type": "code",
   "execution_count": 2,
   "metadata": {},
   "outputs": [],
   "source": [
    "def funcb(gen):\n",
    "    def funcc():\n",
    "        gen()\n",
    "        print('decorated Ganesha')\n",
    "    return funcc"
   ]
  },
  {
   "cell_type": "code",
   "execution_count": 3,
   "metadata": {},
   "outputs": [],
   "source": [
    "funcx = funcb(funca)"
   ]
  },
  {
   "cell_type": "code",
   "execution_count": 4,
   "metadata": {},
   "outputs": [
    {
     "name": "stdout",
     "output_type": "stream",
     "text": [
      "plain Ganesha\n"
     ]
    }
   ],
   "source": [
    "funca()"
   ]
  },
  {
   "cell_type": "code",
   "execution_count": 5,
   "metadata": {},
   "outputs": [
    {
     "name": "stdout",
     "output_type": "stream",
     "text": [
      "plain Ganesha\n",
      "decorated Ganesha\n"
     ]
    }
   ],
   "source": [
    "funcx()"
   ]
  },
  {
   "cell_type": "code",
   "execution_count": 7,
   "metadata": {},
   "outputs": [],
   "source": [
    "def funca():\n",
    "    print('plain Ganesha')\n",
    "\n",
    "def funcb(gen):\n",
    "    def funcc():\n",
    "        gen()\n",
    "        print('decorated Ganesha')\n",
    "    return funcc\n",
    "\n",
    "funcx = funcb(funca)"
   ]
  },
  {
   "cell_type": "code",
   "execution_count": 8,
   "metadata": {},
   "outputs": [
    {
     "name": "stdout",
     "output_type": "stream",
     "text": [
      "plain Ganesha\n",
      "decorated Ganesha\n"
     ]
    }
   ],
   "source": [
    "funcx()"
   ]
  },
  {
   "cell_type": "code",
   "execution_count": 9,
   "metadata": {},
   "outputs": [],
   "source": [
    "def funca():\n",
    "    print('plain Ganesha')\n",
    "\n",
    "def funcb(gen):\n",
    "    def funcc():\n",
    "        gen()\n",
    "        print('decorated Ganesha')\n",
    "    return funcc\n",
    "\n",
    "funca = funcb(funca)"
   ]
  },
  {
   "cell_type": "code",
   "execution_count": 10,
   "metadata": {},
   "outputs": [
    {
     "name": "stdout",
     "output_type": "stream",
     "text": [
      "plain Ganesha\n",
      "decorated Ganesha\n"
     ]
    }
   ],
   "source": [
    "funca()"
   ]
  },
  {
   "cell_type": "code",
   "execution_count": 11,
   "metadata": {},
   "outputs": [
    {
     "name": "stdout",
     "output_type": "stream",
     "text": [
      "plain Ganesha\n",
      "----------\n",
      "plain Ganesha\n",
      "decorated Ganesha\n"
     ]
    }
   ],
   "source": [
    "def funca():\n",
    "    print('plain Ganesha')\n",
    "\n",
    "def funcb(gen):\n",
    "    def funcc():\n",
    "        gen()\n",
    "        print('decorated Ganesha')\n",
    "    return funcc\n",
    "\n",
    "\n",
    "funca()\n",
    "print('----------')\n",
    "funca = funcb(funca)\n",
    "funca()"
   ]
  },
  {
   "cell_type": "code",
   "execution_count": 13,
   "metadata": {},
   "outputs": [
    {
     "name": "stdout",
     "output_type": "stream",
     "text": [
      "plain Ganesha\n",
      "decorated Ganesha\n"
     ]
    }
   ],
   "source": [
    "def funcb(gen):\n",
    "    def funcc():\n",
    "        gen()\n",
    "        print('decorated Ganesha')\n",
    "    return funcc\n",
    "\n",
    "def funca():\n",
    "    print('plain Ganesha')\n",
    "funca = funcb(funca)\n",
    "\n",
    "funca()"
   ]
  },
  {
   "cell_type": "code",
   "execution_count": 14,
   "metadata": {},
   "outputs": [],
   "source": [
    "def funcb(gen):\n",
    "    def funcc():\n",
    "        gen()\n",
    "        print('decorated Ganesha')\n",
    "    return funcc\n",
    "\n",
    "def funca():\n",
    "    print('plain Ganesha')\n",
    "funca = funcb(funca)"
   ]
  },
  {
   "cell_type": "code",
   "execution_count": 18,
   "metadata": {},
   "outputs": [],
   "source": [
    "def funcb(gen):\n",
    "    def funcc():\n",
    "        gen()\n",
    "        print('decorated Ganesha')\n",
    "    return funcc\n",
    "\n",
    "@funcb\n",
    "def funca():\n",
    "    print('plain Ganesha')"
   ]
  },
  {
   "cell_type": "code",
   "execution_count": 19,
   "metadata": {},
   "outputs": [
    {
     "name": "stdout",
     "output_type": "stream",
     "text": [
      "plain Ganesha\n",
      "decorated Ganesha\n"
     ]
    }
   ],
   "source": [
    "funca()"
   ]
  },
  {
   "cell_type": "code",
   "execution_count": 21,
   "metadata": {},
   "outputs": [],
   "source": [
    "def stars(funcobj):\n",
    "    def inner():\n",
    "        print('*' * 30)\n",
    "        funcobj()\n",
    "        print('*' * 30)\n",
    "    return inner\n",
    "\n",
    "def percents(funcobj):\n",
    "    def inner():\n",
    "        print('%' * 30)\n",
    "        funcobj()\n",
    "        print('%' * 30)\n",
    "    return inner"
   ]
  },
  {
   "cell_type": "code",
   "execution_count": 22,
   "metadata": {},
   "outputs": [],
   "source": [
    "def funcs(msg):\n",
    "    print(msg)"
   ]
  },
  {
   "cell_type": "code",
   "execution_count": 23,
   "metadata": {},
   "outputs": [
    {
     "name": "stdout",
     "output_type": "stream",
     "text": [
      "hi\n"
     ]
    }
   ],
   "source": [
    "funcs('hi')"
   ]
  },
  {
   "cell_type": "code",
   "execution_count": 26,
   "metadata": {},
   "outputs": [],
   "source": [
    "pass"
   ]
  },
  {
   "cell_type": "code",
   "execution_count": 31,
   "metadata": {},
   "outputs": [],
   "source": [
    "def stars(funcobj):\n",
    "    def inner(*args):\n",
    "        print('*' * 30)\n",
    "        funcobj(*args)\n",
    "        print('*' * 30)\n",
    "    return inner\n",
    "\n",
    "def percents(funcobj):\n",
    "    def inner(*args):\n",
    "        print('%' * 30)\n",
    "        funcobj(*args)\n",
    "        print('%' * 30)\n",
    "    return inner\n",
    "\n",
    "@stars\n",
    "@percents\n",
    "def funcs(msg):\n",
    "    print(msg)"
   ]
  },
  {
   "cell_type": "code",
   "execution_count": 32,
   "metadata": {},
   "outputs": [
    {
     "name": "stdout",
     "output_type": "stream",
     "text": [
      "******************************\n",
      "%%%%%%%%%%%%%%%%%%%%%%%%%%%%%%\n",
      "hi\n",
      "%%%%%%%%%%%%%%%%%%%%%%%%%%%%%%\n",
      "******************************\n"
     ]
    }
   ],
   "source": [
    "funcs('hi')"
   ]
  },
  {
   "cell_type": "code",
   "execution_count": null,
   "metadata": {},
   "outputs": [],
   "source": []
  }
 ],
 "metadata": {
  "kernelspec": {
   "display_name": "Python 3",
   "language": "python",
   "name": "python3"
  },
  "language_info": {
   "codemirror_mode": {
    "name": "ipython",
    "version": 3
   },
   "file_extension": ".py",
   "mimetype": "text/x-python",
   "name": "python",
   "nbconvert_exporter": "python",
   "pygments_lexer": "ipython3",
   "version": "3.7.3"
  }
 },
 "nbformat": 4,
 "nbformat_minor": 2
}

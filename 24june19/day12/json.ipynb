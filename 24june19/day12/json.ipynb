{
 "cells": [
  {
   "cell_type": "code",
   "execution_count": 1,
   "metadata": {},
   "outputs": [],
   "source": [
    "import json"
   ]
  },
  {
   "cell_type": "code",
   "execution_count": 2,
   "metadata": {},
   "outputs": [],
   "source": [
    "with open('example_2.json') as file:\n",
    "    data = json.load(file)"
   ]
  },
  {
   "cell_type": "code",
   "execution_count": 3,
   "metadata": {},
   "outputs": [
    {
     "data": {
      "text/plain": [
       "{'quiz': {'sport': {'q1': {'question': 'Which one is correct team name in NBA?',\n",
       "    'options': ['New York Bulls',\n",
       "     'Los Angeles Kings',\n",
       "     'Golden State Warriros',\n",
       "     'Huston Rocket'],\n",
       "    'answer': 'Huston Rocket'}},\n",
       "  'maths': {'q1': {'question': '5 + 7 = ?',\n",
       "    'options': ['10', '11', '12', '13'],\n",
       "    'answer': '12'},\n",
       "   'q2': {'question': '12 - 8 = ?',\n",
       "    'options': ['1', '2', '3', '4'],\n",
       "    'answer': '4'}}}}"
      ]
     },
     "execution_count": 3,
     "metadata": {},
     "output_type": "execute_result"
    }
   ],
   "source": [
    "data"
   ]
  },
  {
   "cell_type": "code",
   "execution_count": 4,
   "metadata": {},
   "outputs": [
    {
     "data": {
      "text/plain": [
       "dict"
      ]
     },
     "execution_count": 4,
     "metadata": {},
     "output_type": "execute_result"
    }
   ],
   "source": [
    "type(data)"
   ]
  },
  {
   "cell_type": "code",
   "execution_count": 5,
   "metadata": {},
   "outputs": [
    {
     "name": "stdout",
     "output_type": "stream",
     "text": [
      "{\n",
      "  \"quiz\": {\n",
      "    \"sport\": {\n",
      "      \"q1\": {\n",
      "        \"question\": \"Which one is correct team name in NBA?\",\n",
      "        \"options\": [\n",
      "          \"New York Bulls\",\n",
      "          \"Los Angeles Kings\",\n",
      "          \"Golden State Warriros\",\n",
      "          \"Huston Rocket\"\n",
      "        ],\n",
      "        \"answer\": \"Huston Rocket\"\n",
      "      }\n",
      "    },\n",
      "    \"maths\": {\n",
      "      \"q1\": {\n",
      "        \"question\": \"5 + 7 = ?\",\n",
      "        \"options\": [\n",
      "          \"10\",\n",
      "          \"11\",\n",
      "          \"12\",\n",
      "          \"13\"\n",
      "        ],\n",
      "        \"answer\": \"12\"\n",
      "      },\n",
      "      \"q2\": {\n",
      "        \"question\": \"12 - 8 = ?\",\n",
      "        \"options\": [\n",
      "          \"1\",\n",
      "          \"2\",\n",
      "          \"3\",\n",
      "          \"4\"\n",
      "        ],\n",
      "        \"answer\": \"4\"\n",
      "      }\n",
      "    }\n",
      "  }\n",
      "}\n"
     ]
    }
   ],
   "source": [
    "print(json.dumps(data, indent = 2))"
   ]
  },
  {
   "cell_type": "code",
   "execution_count": 7,
   "metadata": {},
   "outputs": [],
   "source": [
    "pass"
   ]
  },
  {
   "cell_type": "code",
   "execution_count": 8,
   "metadata": {},
   "outputs": [
    {
     "data": {
      "text/plain": [
       "'12'"
      ]
     },
     "execution_count": 8,
     "metadata": {},
     "output_type": "execute_result"
    }
   ],
   "source": [
    "data['quiz']['maths']['q1']['options'][2]"
   ]
  },
  {
   "cell_type": "code",
   "execution_count": 9,
   "metadata": {},
   "outputs": [
    {
     "name": "stdout",
     "output_type": "stream",
     "text": [
      "{\"name\": \"gomes\", \"age\": 26, \"children\": 1, \"language\": [\"python\", \"irish\", \"tamil\", \"english\"]}\n"
     ]
    }
   ],
   "source": [
    "#dict             object\n",
    "#list, tuple      array\n",
    "#str              string\n",
    "#int, float       number\n",
    "#True, False      true false\n",
    "#None.            null\n",
    "\n",
    "\n",
    "json\n",
    "person = {'name':'gomes', 'age':26, 'children': 1, 'language':['python', 'irish', 'tamil', 'english']}\n",
    "\n",
    "person_json = json.dumps(person)\n",
    "\n",
    "print(person_json)"
   ]
  },
  {
   "cell_type": "code",
   "execution_count": 10,
   "metadata": {},
   "outputs": [],
   "source": [
    "json\n",
    "person = {'name':'gomes', 'age':26, 'children': 1, 'language':['python', 'irish', 'tamil', 'english']}\n",
    "\n",
    "\n",
    "with open('person.json', 'w') as json_file:\n",
    "    json.dump(person, json_file)"
   ]
  },
  {
   "cell_type": "code",
   "execution_count": null,
   "metadata": {},
   "outputs": [],
   "source": []
  }
 ],
 "metadata": {
  "kernelspec": {
   "display_name": "Python 3",
   "language": "python",
   "name": "python3"
  },
  "language_info": {
   "codemirror_mode": {
    "name": "ipython",
    "version": 3
   },
   "file_extension": ".py",
   "mimetype": "text/x-python",
   "name": "python",
   "nbconvert_exporter": "python",
   "pygments_lexer": "ipython3",
   "version": "3.7.3"
  }
 },
 "nbformat": 4,
 "nbformat_minor": 2
}

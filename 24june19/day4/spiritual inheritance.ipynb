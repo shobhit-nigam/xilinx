{
 "cells": [
  {
   "cell_type": "code",
   "execution_count": 5,
   "metadata": {},
   "outputs": [],
   "source": [
    "class shiva:\n",
    "    powera = 'destroy'\n",
    "    powerb = 'boons'\n",
    "    __powerc = 'third eye'\n",
    "    def natraja(self):\n",
    "        print('dancing away ')\n"
   ]
  },
  {
   "cell_type": "code",
   "execution_count": 6,
   "metadata": {},
   "outputs": [],
   "source": [
    "class ganesha(shiva):\n",
    "    powerd = 'takes away trouble'\n",
    "    def eat(self):\n",
    "        print('loves eating modaks')"
   ]
  },
  {
   "cell_type": "code",
   "execution_count": 7,
   "metadata": {},
   "outputs": [],
   "source": [
    "obja = ganesha()"
   ]
  },
  {
   "cell_type": "code",
   "execution_count": 8,
   "metadata": {},
   "outputs": [
    {
     "name": "stdout",
     "output_type": "stream",
     "text": [
      "dancing away \n"
     ]
    }
   ],
   "source": [
    "obja.natraja()"
   ]
  },
  {
   "cell_type": "code",
   "execution_count": 9,
   "metadata": {},
   "outputs": [],
   "source": [
    "varx = 67\n",
    "\n",
    "varx = 66"
   ]
  },
  {
   "cell_type": "code",
   "execution_count": 10,
   "metadata": {},
   "outputs": [],
   "source": [
    "obja = shiva()"
   ]
  },
  {
   "cell_type": "code",
   "execution_count": 12,
   "metadata": {},
   "outputs": [],
   "source": [
    "class shiva:\n",
    "    def __init__(self):\n",
    "        print('in init of shiva')\n",
    "    powera = 'destroy'\n",
    "    powerb = 'boons'\n",
    "    __powerc = 'third eye'\n",
    "    def natraja(self):\n",
    "        print('dancing away ')\n",
    "\n",
    "class ganesha(shiva):\n",
    "    powerd = 'takes away trouble'\n",
    "    def eat(self):\n",
    "        print('loves eating modaks')"
   ]
  },
  {
   "cell_type": "code",
   "execution_count": 13,
   "metadata": {},
   "outputs": [
    {
     "name": "stdout",
     "output_type": "stream",
     "text": [
      "in init of shiva\n"
     ]
    }
   ],
   "source": [
    "objg = ganesha()"
   ]
  },
  {
   "cell_type": "code",
   "execution_count": 14,
   "metadata": {},
   "outputs": [],
   "source": [
    "class shiva:\n",
    "    def __init__(self):\n",
    "        print('in init of shiva')\n",
    "    powera = 'destroy'\n",
    "    powerb = 'boons'\n",
    "    __powerc = 'third eye'\n",
    "    def natraja(self):\n",
    "        print('dancing away ')\n",
    "\n",
    "class ganesha(shiva):\n",
    "    powerd = 'takes away trouble'\n",
    "    powera = 'sleeping'\n",
    "    def eat(self):\n",
    "        print('loves eating modaks')"
   ]
  },
  {
   "cell_type": "code",
   "execution_count": 15,
   "metadata": {},
   "outputs": [
    {
     "name": "stdout",
     "output_type": "stream",
     "text": [
      "in init of shiva\n"
     ]
    }
   ],
   "source": [
    "objg = ganesha()"
   ]
  },
  {
   "cell_type": "code",
   "execution_count": 16,
   "metadata": {},
   "outputs": [
    {
     "data": {
      "text/plain": [
       "'sleeping'"
      ]
     },
     "execution_count": 16,
     "metadata": {},
     "output_type": "execute_result"
    }
   ],
   "source": [
    "objg.powera"
   ]
  },
  {
   "cell_type": "code",
   "execution_count": 17,
   "metadata": {},
   "outputs": [
    {
     "name": "stdout",
     "output_type": "stream",
     "text": [
      "in init of shiva\n"
     ]
    },
    {
     "data": {
      "text/plain": [
       "'destroy'"
      ]
     },
     "execution_count": 17,
     "metadata": {},
     "output_type": "execute_result"
    }
   ],
   "source": [
    "objs = shiva()\n",
    "objs.powera"
   ]
  },
  {
   "cell_type": "code",
   "execution_count": 18,
   "metadata": {},
   "outputs": [],
   "source": [
    "class shiva:\n",
    "    def __init__(self):\n",
    "        print('in init of shiva')\n",
    "    powera = 'destroy'\n",
    "    powerb = 'boons'\n",
    "    __powerc = 'third eye'\n",
    "    def natraja(self):\n",
    "        print('dancing away ')\n",
    "\n",
    "class ganesha(shiva):\n",
    "    def __init__(self):\n",
    "        print('in init of ganesha')\n",
    "    powerd = 'takes away trouble'\n",
    "    powera = 'sleeping'\n",
    "    def eat(self):\n",
    "        print('loves eating modaks')"
   ]
  },
  {
   "cell_type": "code",
   "execution_count": 19,
   "metadata": {},
   "outputs": [
    {
     "name": "stdout",
     "output_type": "stream",
     "text": [
      "in init of ganesha\n"
     ]
    }
   ],
   "source": [
    "objg = ganesha()"
   ]
  },
  {
   "cell_type": "code",
   "execution_count": 22,
   "metadata": {},
   "outputs": [],
   "source": [
    "pass"
   ]
  },
  {
   "cell_type": "code",
   "execution_count": 40,
   "metadata": {},
   "outputs": [],
   "source": [
    "class shiva:\n",
    "    def __init__(self):\n",
    "        print('in init of shiva')\n",
    "    powera = 'destroy'\n",
    "    powerb = 'boons'\n",
    "#    __powerc = 'third eye'\n",
    "    def natraja(self):\n",
    "        print('dancing away ')\n",
    "\n",
    "class ganesha(shiva):\n",
    "    def __init__(self):\n",
    "        super().__init__()\n",
    "        print('in init of ganesha')\n",
    "    powerd = 'takes away trouble'\n",
    "    powera = 'sleeping'\n",
    "    def eat(self):\n",
    "        print('loves eating modaks')"
   ]
  },
  {
   "cell_type": "code",
   "execution_count": 41,
   "metadata": {},
   "outputs": [
    {
     "name": "stdout",
     "output_type": "stream",
     "text": [
      "in init of shiva\n",
      "in init of ganesha\n"
     ]
    }
   ],
   "source": [
    "objg = ganesha()"
   ]
  },
  {
   "cell_type": "code",
   "execution_count": 43,
   "metadata": {},
   "outputs": [],
   "source": [
    "class shiva:\n",
    "    def __init__(self):\n",
    "        print('in init of shiva')\n",
    "    powera = 'destroy'\n",
    "    powerb = 'boons'\n",
    "#    __powerc = 'third eye'\n",
    "    def natraja(self):\n",
    "        print('dancing away ')\n",
    "\n",
    "class parvati:\n",
    "    powerp = 'goddess of love'\n",
    "    def __init__(self):\n",
    "        print('in init of parvati')\n",
    "        \n",
    "class ganesha(parvati, shiva):\n",
    "    def __init__(self):\n",
    "        super().__init__()\n",
    "        print('in init of ganesha')\n",
    "    powerd = 'takes away trouble'\n",
    "    powera = 'sleeping'\n",
    "    def eat(self):\n",
    "        print('loves eating modaks')"
   ]
  },
  {
   "cell_type": "code",
   "execution_count": 45,
   "metadata": {},
   "outputs": [
    {
     "name": "stdout",
     "output_type": "stream",
     "text": [
      "in init of parvati\n",
      "in init of ganesha\n"
     ]
    }
   ],
   "source": [
    "objg = ganesha()"
   ]
  },
  {
   "cell_type": "code",
   "execution_count": 57,
   "metadata": {},
   "outputs": [],
   "source": [
    "class shiva:\n",
    "    def __init__(self):\n",
    "        print('in init of shiva')\n",
    "    powera = 'destroy'\n",
    "    powerb = 'boons'\n",
    "#    __powerc = 'third eye'\n",
    "    def natraja(self):\n",
    "        print('shiva dancing away ')\n",
    "\n",
    "class parvati:\n",
    "    powerp = 'goddess of love'\n",
    "    powerb = 'victory'\n",
    "    def __init__(self):\n",
    "        print('in init of parvati')\n",
    "        \n",
    "class ganesha(shiva, parvati):\n",
    "    def __init__(self):\n",
    "        super().__init__()\n",
    "        print('in init of ganesha')\n",
    "    powerd = 'takes away trouble'\n",
    "    powera = 'sleeping'\n",
    "    def eat(self):\n",
    "        print('loves eating modaks')\n",
    "    def natraja(self):\n",
    "        print('ganesha dancing away ')\n",
    "        super().natraja()"
   ]
  },
  {
   "cell_type": "code",
   "execution_count": 58,
   "metadata": {},
   "outputs": [
    {
     "name": "stdout",
     "output_type": "stream",
     "text": [
      "in init of shiva\n",
      "in init of ganesha\n"
     ]
    }
   ],
   "source": [
    "objg = ganesha()"
   ]
  },
  {
   "cell_type": "code",
   "execution_count": 59,
   "metadata": {},
   "outputs": [
    {
     "name": "stdout",
     "output_type": "stream",
     "text": [
      "ganesha dancing away \n",
      "shiva dancing away \n"
     ]
    }
   ],
   "source": [
    "objg.natraja()"
   ]
  },
  {
   "cell_type": "code",
   "execution_count": null,
   "metadata": {},
   "outputs": [],
   "source": []
  }
 ],
 "metadata": {
  "kernelspec": {
   "display_name": "Python 3",
   "language": "python",
   "name": "python3"
  },
  "language_info": {
   "codemirror_mode": {
    "name": "ipython",
    "version": 3
   },
   "file_extension": ".py",
   "mimetype": "text/x-python",
   "name": "python",
   "nbconvert_exporter": "python",
   "pygments_lexer": "ipython3",
   "version": "3.7.3"
  }
 },
 "nbformat": 4,
 "nbformat_minor": 2
}

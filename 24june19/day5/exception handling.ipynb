{
 "cells": [
  {
   "cell_type": "code",
   "execution_count": 1,
   "metadata": {},
   "outputs": [],
   "source": [
    "seta = {7,8,7,4,5,6}\n",
    "setb = {1,2,7,4,3}"
   ]
  },
  {
   "cell_type": "code",
   "execution_count": 2,
   "metadata": {},
   "outputs": [
    {
     "name": "stdout",
     "output_type": "stream",
     "text": [
      "{4, 5, 6, 7, 8}\n"
     ]
    }
   ],
   "source": [
    "print(seta)"
   ]
  },
  {
   "cell_type": "code",
   "execution_count": 4,
   "metadata": {},
   "outputs": [
    {
     "data": {
      "text/plain": [
       "{4, 5, 6, 7, 8}"
      ]
     },
     "execution_count": 4,
     "metadata": {},
     "output_type": "execute_result"
    }
   ],
   "source": [
    "seta"
   ]
  },
  {
   "cell_type": "code",
   "execution_count": 7,
   "metadata": {},
   "outputs": [],
   "source": [
    "setc = seta | setb "
   ]
  },
  {
   "cell_type": "code",
   "execution_count": 8,
   "metadata": {},
   "outputs": [
    {
     "data": {
      "text/plain": [
       "{1, 2, 3, 4, 5, 6, 7, 8}"
      ]
     },
     "execution_count": 8,
     "metadata": {},
     "output_type": "execute_result"
    }
   ],
   "source": [
    "setc"
   ]
  },
  {
   "cell_type": "code",
   "execution_count": 9,
   "metadata": {},
   "outputs": [
    {
     "data": {
      "text/plain": [
       "set"
      ]
     },
     "execution_count": 9,
     "metadata": {},
     "output_type": "execute_result"
    }
   ],
   "source": [
    "type(setc)"
   ]
  },
  {
   "cell_type": "code",
   "execution_count": 10,
   "metadata": {},
   "outputs": [],
   "source": [
    "#exception handling\n",
    "vara = 0\n",
    "varb = 10"
   ]
  },
  {
   "cell_type": "code",
   "execution_count": 12,
   "metadata": {},
   "outputs": [
    {
     "ename": "ZeroDivisionError",
     "evalue": "division by zero",
     "output_type": "error",
     "traceback": [
      "\u001b[0;31m---------------------------------------------------------------------------\u001b[0m",
      "\u001b[0;31mZeroDivisionError\u001b[0m                         Traceback (most recent call last)",
      "\u001b[0;32m<ipython-input-12-0f00c6cee8c2>\u001b[0m in \u001b[0;36m<module>\u001b[0;34m\u001b[0m\n\u001b[0;32m----> 1\u001b[0;31m \u001b[0mvarb\u001b[0m\u001b[0;34m/\u001b[0m\u001b[0mvara\u001b[0m\u001b[0;34m\u001b[0m\u001b[0;34m\u001b[0m\u001b[0m\n\u001b[0m",
      "\u001b[0;31mZeroDivisionError\u001b[0m: division by zero"
     ]
    }
   ],
   "source": [
    "varb/vara"
   ]
  },
  {
   "cell_type": "code",
   "execution_count": 13,
   "metadata": {},
   "outputs": [
    {
     "ename": "NameError",
     "evalue": "name 'var' is not defined",
     "output_type": "error",
     "traceback": [
      "\u001b[0;31m---------------------------------------------------------------------------\u001b[0m",
      "\u001b[0;31mNameError\u001b[0m                                 Traceback (most recent call last)",
      "\u001b[0;32m<ipython-input-13-475b439a5f30>\u001b[0m in \u001b[0;36m<module>\u001b[0;34m\u001b[0m\n\u001b[0;32m----> 1\u001b[0;31m \u001b[0mvarb\u001b[0m\u001b[0;34m/\u001b[0m\u001b[0mvar\u001b[0m\u001b[0;34m\u001b[0m\u001b[0;34m\u001b[0m\u001b[0m\n\u001b[0m",
      "\u001b[0;31mNameError\u001b[0m: name 'var' is not defined"
     ]
    }
   ],
   "source": [
    "varb/var"
   ]
  },
  {
   "cell_type": "code",
   "execution_count": 14,
   "metadata": {},
   "outputs": [],
   "source": [
    "#try\n",
    "#except\n"
   ]
  },
  {
   "cell_type": "code",
   "execution_count": 15,
   "metadata": {},
   "outputs": [
    {
     "name": "stdout",
     "output_type": "stream",
     "text": [
      "divide by zero error\n"
     ]
    }
   ],
   "source": [
    "vara = 0\n",
    "varb = 10\n",
    "try: \n",
    "    result = varb/vara\n",
    "    print(reuslt)\n",
    "    #unreachable\n",
    "except ZeroDivisionError:\n",
    "    print(\"divide by zero error\")"
   ]
  },
  {
   "cell_type": "code",
   "execution_count": 17,
   "metadata": {},
   "outputs": [
    {
     "name": "stdout",
     "output_type": "stream",
     "text": [
      "you have a typo\n"
     ]
    }
   ],
   "source": [
    "vara = 5\n",
    "varb = 10\n",
    "try: \n",
    "    result = varb/vara\n",
    "    print(reuslt)\n",
    "except ZeroDivisionError:\n",
    "    print(\"divide by zero error\")\n",
    "except NameError:\n",
    "    print('you have a typo')"
   ]
  },
  {
   "cell_type": "code",
   "execution_count": 18,
   "metadata": {},
   "outputs": [
    {
     "name": "stdout",
     "output_type": "stream",
     "text": [
      "2.0\n"
     ]
    }
   ],
   "source": [
    "vara = 5\n",
    "varb = 10\n",
    "try: \n",
    "    result = varb/vara\n",
    "    print(result)\n",
    "except ZeroDivisionError:\n",
    "    print(\"divide by zero error\")\n",
    "except NameError:\n",
    "    print('you have a typo')"
   ]
  },
  {
   "cell_type": "code",
   "execution_count": 23,
   "metadata": {},
   "outputs": [
    {
     "name": "stdout",
     "output_type": "stream",
     "text": [
      "enter a num9\n",
      "7.25\n"
     ]
    },
    {
     "ename": "IndexError",
     "evalue": "list index out of range",
     "output_type": "error",
     "traceback": [
      "\u001b[0;31m---------------------------------------------------------------------------\u001b[0m",
      "\u001b[0;31mIndexError\u001b[0m                                Traceback (most recent call last)",
      "\u001b[0;32m<ipython-input-23-cab2a3ed8c7c>\u001b[0m in \u001b[0;36m<module>\u001b[0;34m\u001b[0m\n\u001b[1;32m      5\u001b[0m     \u001b[0mavg\u001b[0m \u001b[0;34m=\u001b[0m \u001b[0msum\u001b[0m\u001b[0;34m(\u001b[0m\u001b[0mlista\u001b[0m\u001b[0;34m)\u001b[0m\u001b[0;34m/\u001b[0m\u001b[0mlen\u001b[0m\u001b[0;34m(\u001b[0m\u001b[0mlista\u001b[0m\u001b[0;34m)\u001b[0m\u001b[0;34m\u001b[0m\u001b[0;34m\u001b[0m\u001b[0m\n\u001b[1;32m      6\u001b[0m     \u001b[0mprint\u001b[0m\u001b[0;34m(\u001b[0m\u001b[0mavg\u001b[0m\u001b[0;34m)\u001b[0m\u001b[0;34m\u001b[0m\u001b[0;34m\u001b[0m\u001b[0m\n\u001b[0;32m----> 7\u001b[0;31m     \u001b[0mprint\u001b[0m\u001b[0;34m(\u001b[0m\u001b[0mlista\u001b[0m\u001b[0;34m[\u001b[0m\u001b[0mi\u001b[0m\u001b[0;34m]\u001b[0m\u001b[0;34m)\u001b[0m\u001b[0;34m\u001b[0m\u001b[0;34m\u001b[0m\u001b[0m\n\u001b[0m\u001b[1;32m      8\u001b[0m \u001b[0;32mexcept\u001b[0m \u001b[0mZeroDivisionError\u001b[0m\u001b[0;34m:\u001b[0m\u001b[0;34m\u001b[0m\u001b[0;34m\u001b[0m\u001b[0m\n\u001b[1;32m      9\u001b[0m     \u001b[0mprint\u001b[0m\u001b[0;34m(\u001b[0m\u001b[0;34m\"divide by zero error\"\u001b[0m\u001b[0;34m)\u001b[0m\u001b[0;34m\u001b[0m\u001b[0;34m\u001b[0m\u001b[0m\n",
      "\u001b[0;31mIndexError\u001b[0m: list index out of range"
     ]
    }
   ],
   "source": [
    "lista = [5,7,8,9]\n",
    "avg = 1\n",
    "i = int(input('enter a num: '))\n",
    "try:\n",
    "    avg = sum(lista)/len(lista)\n",
    "    print(avg)\n",
    "    print(lista[i])\n",
    "except ZeroDivisionError:\n",
    "    print(\"divide by zero error\")\n",
    "except NameError:\n",
    "    print('you have a typo')"
   ]
  },
  {
   "cell_type": "code",
   "execution_count": 26,
   "metadata": {},
   "outputs": [
    {
     "name": "stdout",
     "output_type": "stream",
     "text": [
      "enter a num: 6\n",
      "7.25\n",
      "something went wrong\n"
     ]
    }
   ],
   "source": [
    "lista = [5,7,8,9]\n",
    "avg = 1\n",
    "i = int(input('enter a num: '))\n",
    "try:\n",
    "    avg = sum(lista)/len(lista)\n",
    "    print(avg)\n",
    "    print(lista[i])\n",
    "except ZeroDivisionError:\n",
    "    print(\"divide by zero error\")\n",
    "except NameError:\n",
    "    print('you have a typo')\n",
    "except :\n",
    "    print('something went wrong')"
   ]
  },
  {
   "cell_type": "code",
   "execution_count": 28,
   "metadata": {},
   "outputs": [
    {
     "name": "stdout",
     "output_type": "stream",
     "text": [
      "enter a num: -1\n",
      "<class 'ValueError'>\n",
      "this is not  a positive value\n"
     ]
    }
   ],
   "source": [
    "lista = [5,7,8,9]\n",
    "try :\n",
    "    i = int(input('enter a num: '))\n",
    "    if i <= 0 :\n",
    "        raise ValueError (\"this is not  a positive value\")\n",
    "    else:\n",
    "        print(lista[i])\n",
    "except ValueError as VE:\n",
    "    print(type(VE))\n",
    "    print(VE)"
   ]
  },
  {
   "cell_type": "code",
   "execution_count": 29,
   "metadata": {},
   "outputs": [
    {
     "name": "stdout",
     "output_type": "stream",
     "text": [
      "enter a num: -2\n",
      "<class 'ValueError'>\n",
      "\n"
     ]
    }
   ],
   "source": [
    "lista = [5,7,8,9]\n",
    "try :\n",
    "    i = int(input('enter a num: '))\n",
    "    if i <= 0 :\n",
    "        raise ValueError\n",
    "    else:\n",
    "        print(lista[i])\n",
    "except ValueError as VE:\n",
    "    print(type(VE))\n",
    "    print(VE)"
   ]
  },
  {
   "cell_type": "code",
   "execution_count": 35,
   "metadata": {},
   "outputs": [],
   "source": [
    "def funca():\n",
    "    try :\n",
    "        pass\n",
    "    except :\n",
    "        pass\n",
    "    return None"
   ]
  },
  {
   "cell_type": "code",
   "execution_count": 36,
   "metadata": {},
   "outputs": [],
   "source": [
    "try:\n",
    "    funca()\n",
    "except:\n",
    "    pass"
   ]
  },
  {
   "cell_type": "code",
   "execution_count": 37,
   "metadata": {},
   "outputs": [],
   "source": [
    "class appError(Exception):\n",
    "    \"base class for application exceptions\"\n",
    "    pass"
   ]
  },
  {
   "cell_type": "code",
   "execution_count": 39,
   "metadata": {},
   "outputs": [
    {
     "name": "stdout",
     "output_type": "stream",
     "text": [
      "enter a number4\n",
      "value is too small\n",
      "enter a number20\n",
      "value is too large\n",
      "enter a number10\n",
      "congrats, you guessed it write\n"
     ]
    }
   ],
   "source": [
    "class appError(Exception):\n",
    "    \"base class for application exceptions\"\n",
    "    pass\n",
    "\n",
    "class ValueTooSmall(appError):\n",
    "    \"value is too small\"\n",
    "    pass\n",
    "\n",
    "class ValueTooLarge(appError):\n",
    "    \"value is too large\"\n",
    "    pass\n",
    "    \n",
    "number = 10\n",
    "while True:\n",
    "    try :\n",
    "        i_num = int(input(\"enter a number\"))\n",
    "        if i_num < number:\n",
    "            raise ValueTooSmall\n",
    "        elif i_num > number:\n",
    "            raise ValueTooLarge\n",
    "        break    \n",
    "    except ValueTooSmall:\n",
    "        print(ValueTooSmall.__doc__)\n",
    "    except ValueTooLarge:\n",
    "        print(ValueTooLarge.__doc__)\n",
    "print('congrats, you guessed it write')        "
   ]
  },
  {
   "cell_type": "code",
   "execution_count": null,
   "metadata": {},
   "outputs": [],
   "source": []
  }
 ],
 "metadata": {
  "kernelspec": {
   "display_name": "Python 3",
   "language": "python",
   "name": "python3"
  },
  "language_info": {
   "codemirror_mode": {
    "name": "ipython",
    "version": 3
   },
   "file_extension": ".py",
   "mimetype": "text/x-python",
   "name": "python",
   "nbconvert_exporter": "python",
   "pygments_lexer": "ipython3",
   "version": "3.7.3"
  }
 },
 "nbformat": 4,
 "nbformat_minor": 2
}

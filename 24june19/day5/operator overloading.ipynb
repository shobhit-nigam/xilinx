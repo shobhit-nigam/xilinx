{
 "cells": [
  {
   "cell_type": "code",
   "execution_count": 1,
   "metadata": {},
   "outputs": [],
   "source": [
    "class study:\n",
    "    hours = 0\n",
    "    minutes = 0\n",
    "    def __init__(self, h, m):\n",
    "        self.hours = h\n",
    "        self.minutes = m\n"
   ]
  },
  {
   "cell_type": "code",
   "execution_count": 2,
   "metadata": {},
   "outputs": [],
   "source": [
    "prebreak = study(1, 30)"
   ]
  },
  {
   "cell_type": "code",
   "execution_count": 3,
   "metadata": {},
   "outputs": [],
   "source": [
    "postbreak = study(1, 40)"
   ]
  },
  {
   "cell_type": "code",
   "execution_count": 4,
   "metadata": {},
   "outputs": [],
   "source": [
    "total = study(0,0)"
   ]
  },
  {
   "cell_type": "code",
   "execution_count": 5,
   "metadata": {},
   "outputs": [
    {
     "ename": "TypeError",
     "evalue": "unsupported operand type(s) for +: 'study' and 'study'",
     "output_type": "error",
     "traceback": [
      "\u001b[0;31m---------------------------------------------------------------------------\u001b[0m",
      "\u001b[0;31mTypeError\u001b[0m                                 Traceback (most recent call last)",
      "\u001b[0;32m<ipython-input-5-5116eff1b1d7>\u001b[0m in \u001b[0;36m<module>\u001b[0;34m\u001b[0m\n\u001b[0;32m----> 1\u001b[0;31m \u001b[0mtotal\u001b[0m \u001b[0;34m=\u001b[0m \u001b[0mprebreak\u001b[0m \u001b[0;34m+\u001b[0m \u001b[0mpostbreak\u001b[0m\u001b[0;34m\u001b[0m\u001b[0;34m\u001b[0m\u001b[0m\n\u001b[0m",
      "\u001b[0;31mTypeError\u001b[0m: unsupported operand type(s) for +: 'study' and 'study'"
     ]
    }
   ],
   "source": [
    "total = prebreak + postbreak \n",
    "# study.__add__(prebreak, postbreak)"
   ]
  },
  {
   "cell_type": "code",
   "execution_count": 22,
   "metadata": {},
   "outputs": [],
   "source": [
    "class study:\n",
    "    hours = 0\n",
    "    minutes = 0\n",
    "    def __init__(self, h=0, m=0):\n",
    "        self.hours = h\n",
    "        self.minutes = m\n",
    "    def __add__(self, self2):       #magic function for +\n",
    "        objc = study()\n",
    "        min1 = self.hours * 60 + self.minutes\n",
    "        min2 = self2.hours * 60 + self2.minutes\n",
    "        mintotal = min1 + min2\n",
    "        objc.hours = mintotal//60\n",
    "        objc.minutes = mintotal%60\n",
    "        return objc\n",
    "    def display(self):\n",
    "        print('we studied for ' , self.hours, ' hours and ', self.minutes, ' minutes')"
   ]
  },
  {
   "cell_type": "code",
   "execution_count": 23,
   "metadata": {},
   "outputs": [],
   "source": [
    "prebreak = study(1, 30)\n",
    "postbreak = study(1, 40)\n",
    "total = study(0,0)"
   ]
  },
  {
   "cell_type": "code",
   "execution_count": 24,
   "metadata": {},
   "outputs": [],
   "source": [
    "total = prebreak + postbreak\n"
   ]
  },
  {
   "cell_type": "code",
   "execution_count": 25,
   "metadata": {},
   "outputs": [
    {
     "name": "stdout",
     "output_type": "stream",
     "text": [
      "we studied for  3  hours and  10  minutes\n"
     ]
    }
   ],
   "source": [
    "total.display()"
   ]
  },
  {
   "cell_type": "code",
   "execution_count": 26,
   "metadata": {},
   "outputs": [
    {
     "data": {
      "text/plain": [
       "3"
      ]
     },
     "execution_count": 26,
     "metadata": {},
     "output_type": "execute_result"
    }
   ],
   "source": [
    "total.hours"
   ]
  },
  {
   "cell_type": "code",
   "execution_count": 27,
   "metadata": {},
   "outputs": [
    {
     "data": {
      "text/plain": [
       "9"
      ]
     },
     "execution_count": 27,
     "metadata": {},
     "output_type": "execute_result"
    }
   ],
   "source": [
    "4 + 5"
   ]
  },
  {
   "cell_type": "code",
   "execution_count": 30,
   "metadata": {},
   "outputs": [],
   "source": [
    "total = prebreak + postbreak"
   ]
  },
  {
   "cell_type": "code",
   "execution_count": 31,
   "metadata": {},
   "outputs": [],
   "source": [
    "class study:\n",
    "    hours = 0\n",
    "    minutes = 0\n",
    "    def __init__(self, h=0, m=0):\n",
    "        self.hours = h\n",
    "        self.minutes = m\n",
    "    def __add__(self, self2):       #magic function for +\n",
    "        objc = study()\n",
    "        min1 = self.hours * 60 + self.minutes\n",
    "        min2 = self2.hours * 60 + self2.minutes\n",
    "        mintotal = min1 + min2\n",
    "        objc.hours = mintotal//60\n",
    "        objc.minutes = mintotal%60\n",
    "        return objc\n",
    "    def __add__(self, min2):       #magic function for +\n",
    "        objc = study()\n",
    "        min1 = self.hours * 60 + self.minutes\n",
    "        mintotal = min1 + min2\n",
    "        objc.hours = mintotal//60\n",
    "        objc.minutes = mintotal%60\n",
    "        return objc\n",
    "    def display(self):\n",
    "        print('we studied for ' , self.hours, ' hours and ', self.minutes, ' minutes')"
   ]
  },
  {
   "cell_type": "code",
   "execution_count": 32,
   "metadata": {},
   "outputs": [],
   "source": [
    "prebreak = study(1, 30)\n",
    "postbreak = study(1, 40)\n",
    "total = study(0,0)"
   ]
  },
  {
   "cell_type": "code",
   "execution_count": 33,
   "metadata": {},
   "outputs": [],
   "source": [
    "total = prebreak + 20"
   ]
  },
  {
   "cell_type": "code",
   "execution_count": 34,
   "metadata": {},
   "outputs": [
    {
     "name": "stdout",
     "output_type": "stream",
     "text": [
      "we studied for  1  hours and  50  minutes\n"
     ]
    }
   ],
   "source": [
    "total.display()"
   ]
  },
  {
   "cell_type": "code",
   "execution_count": 35,
   "metadata": {},
   "outputs": [
    {
     "ename": "TypeError",
     "evalue": "unsupported operand type(s) for +: 'int' and 'study'",
     "output_type": "error",
     "traceback": [
      "\u001b[0;31m---------------------------------------------------------------------------\u001b[0m",
      "\u001b[0;31mTypeError\u001b[0m                                 Traceback (most recent call last)",
      "\u001b[0;32m<ipython-input-35-84dc399b0526>\u001b[0m in \u001b[0;36m<module>\u001b[0;34m\u001b[0m\n\u001b[0;32m----> 1\u001b[0;31m \u001b[0mtotal\u001b[0m \u001b[0;34m=\u001b[0m \u001b[0mprebreak\u001b[0m \u001b[0;34m+\u001b[0m \u001b[0mpostbreak\u001b[0m\u001b[0;34m\u001b[0m\u001b[0;34m\u001b[0m\u001b[0m\n\u001b[0m",
      "\u001b[0;32m<ipython-input-31-238413764541>\u001b[0m in \u001b[0;36m__add__\u001b[0;34m(self, min2)\u001b[0m\n\u001b[1;32m     16\u001b[0m         \u001b[0mobjc\u001b[0m \u001b[0;34m=\u001b[0m \u001b[0mstudy\u001b[0m\u001b[0;34m(\u001b[0m\u001b[0;34m)\u001b[0m\u001b[0;34m\u001b[0m\u001b[0;34m\u001b[0m\u001b[0m\n\u001b[1;32m     17\u001b[0m         \u001b[0mmin1\u001b[0m \u001b[0;34m=\u001b[0m \u001b[0mself\u001b[0m\u001b[0;34m.\u001b[0m\u001b[0mhours\u001b[0m \u001b[0;34m*\u001b[0m \u001b[0;36m60\u001b[0m \u001b[0;34m+\u001b[0m \u001b[0mself\u001b[0m\u001b[0;34m.\u001b[0m\u001b[0mminutes\u001b[0m\u001b[0;34m\u001b[0m\u001b[0;34m\u001b[0m\u001b[0m\n\u001b[0;32m---> 18\u001b[0;31m         \u001b[0mmintotal\u001b[0m \u001b[0;34m=\u001b[0m \u001b[0mmin1\u001b[0m \u001b[0;34m+\u001b[0m \u001b[0mmin2\u001b[0m\u001b[0;34m\u001b[0m\u001b[0;34m\u001b[0m\u001b[0m\n\u001b[0m\u001b[1;32m     19\u001b[0m         \u001b[0mobjc\u001b[0m\u001b[0;34m.\u001b[0m\u001b[0mhours\u001b[0m \u001b[0;34m=\u001b[0m \u001b[0mmintotal\u001b[0m\u001b[0;34m//\u001b[0m\u001b[0;36m60\u001b[0m\u001b[0;34m\u001b[0m\u001b[0;34m\u001b[0m\u001b[0m\n\u001b[1;32m     20\u001b[0m         \u001b[0mobjc\u001b[0m\u001b[0;34m.\u001b[0m\u001b[0mminutes\u001b[0m \u001b[0;34m=\u001b[0m \u001b[0mmintotal\u001b[0m\u001b[0;34m%\u001b[0m\u001b[0;36m60\u001b[0m\u001b[0;34m\u001b[0m\u001b[0;34m\u001b[0m\u001b[0m\n",
      "\u001b[0;31mTypeError\u001b[0m: unsupported operand type(s) for +: 'int' and 'study'"
     ]
    }
   ],
   "source": [
    "total = prebreak + postbreak"
   ]
  },
  {
   "cell_type": "code",
   "execution_count": null,
   "metadata": {},
   "outputs": [],
   "source": []
  }
 ],
 "metadata": {
  "kernelspec": {
   "display_name": "Python 3",
   "language": "python",
   "name": "python3"
  },
  "language_info": {
   "codemirror_mode": {
    "name": "ipython",
    "version": 3
   },
   "file_extension": ".py",
   "mimetype": "text/x-python",
   "name": "python",
   "nbconvert_exporter": "python",
   "pygments_lexer": "ipython3",
   "version": "3.7.3"
  }
 },
 "nbformat": 4,
 "nbformat_minor": 2
}

{
 "cells": [
  {
   "cell_type": "code",
   "execution_count": 3,
   "metadata": {},
   "outputs": [],
   "source": [
    "def funca():\n",
    "    try:\n",
    "        print('testing some funca')\n",
    "        raise ValueError('something wrong in value')\n",
    "    except ValueError:\n",
    "        print(\"name is wrong\")"
   ]
  },
  {
   "cell_type": "code",
   "execution_count": 2,
   "metadata": {},
   "outputs": [
    {
     "name": "stdout",
     "output_type": "stream",
     "text": [
      "testing some funca\n",
      "name is wrong\n"
     ]
    }
   ],
   "source": [
    "funca()"
   ]
  },
  {
   "cell_type": "code",
   "execution_count": 4,
   "metadata": {},
   "outputs": [],
   "source": [
    "def funca():\n",
    "    try:\n",
    "        print('testing some funca')\n",
    "        raise ValueError('something wrong in value')\n",
    "    except NameError:\n",
    "        print(\"name is wrong\")"
   ]
  },
  {
   "cell_type": "code",
   "execution_count": 5,
   "metadata": {},
   "outputs": [
    {
     "name": "stdout",
     "output_type": "stream",
     "text": [
      "testing some funca\n"
     ]
    },
    {
     "ename": "ValueError",
     "evalue": "something wrong in value",
     "output_type": "error",
     "traceback": [
      "\u001b[0;31m---------------------------------------------------------------------------\u001b[0m",
      "\u001b[0;31mValueError\u001b[0m                                Traceback (most recent call last)",
      "\u001b[0;32m<ipython-input-5-cf9529241c1e>\u001b[0m in \u001b[0;36m<module>\u001b[0;34m\u001b[0m\n\u001b[0;32m----> 1\u001b[0;31m \u001b[0mfunca\u001b[0m\u001b[0;34m(\u001b[0m\u001b[0;34m)\u001b[0m\u001b[0;34m\u001b[0m\u001b[0;34m\u001b[0m\u001b[0m\n\u001b[0m",
      "\u001b[0;32m<ipython-input-4-670b23418ed0>\u001b[0m in \u001b[0;36mfunca\u001b[0;34m()\u001b[0m\n\u001b[1;32m      2\u001b[0m     \u001b[0;32mtry\u001b[0m\u001b[0;34m:\u001b[0m\u001b[0;34m\u001b[0m\u001b[0;34m\u001b[0m\u001b[0m\n\u001b[1;32m      3\u001b[0m         \u001b[0mprint\u001b[0m\u001b[0;34m(\u001b[0m\u001b[0;34m'testing some funca'\u001b[0m\u001b[0;34m)\u001b[0m\u001b[0;34m\u001b[0m\u001b[0;34m\u001b[0m\u001b[0m\n\u001b[0;32m----> 4\u001b[0;31m         \u001b[0;32mraise\u001b[0m \u001b[0mValueError\u001b[0m\u001b[0;34m(\u001b[0m\u001b[0;34m'something wrong in value'\u001b[0m\u001b[0;34m)\u001b[0m\u001b[0;34m\u001b[0m\u001b[0;34m\u001b[0m\u001b[0m\n\u001b[0m\u001b[1;32m      5\u001b[0m     \u001b[0;32mexcept\u001b[0m \u001b[0mNameError\u001b[0m\u001b[0;34m:\u001b[0m\u001b[0;34m\u001b[0m\u001b[0;34m\u001b[0m\u001b[0m\n\u001b[1;32m      6\u001b[0m         \u001b[0mprint\u001b[0m\u001b[0;34m(\u001b[0m\u001b[0;34m\"name is wrong\"\u001b[0m\u001b[0;34m)\u001b[0m\u001b[0;34m\u001b[0m\u001b[0;34m\u001b[0m\u001b[0m\n",
      "\u001b[0;31mValueError\u001b[0m: something wrong in value"
     ]
    }
   ],
   "source": [
    "funca()"
   ]
  },
  {
   "cell_type": "code",
   "execution_count": 6,
   "metadata": {},
   "outputs": [
    {
     "name": "stdout",
     "output_type": "stream",
     "text": [
      "testing some funca\n",
      "handled\n"
     ]
    }
   ],
   "source": [
    "try:\n",
    "    funca()\n",
    "except :\n",
    "    print('handled')"
   ]
  },
  {
   "cell_type": "code",
   "execution_count": 7,
   "metadata": {},
   "outputs": [
    {
     "name": "stdout",
     "output_type": "stream",
     "text": [
      "testing some funca\n",
      "handled\n",
      "type of exception: ValueError \n",
      "type of exception: ('something wrong in value',) \n"
     ]
    }
   ],
   "source": [
    "import sys\n",
    "\n",
    "try:\n",
    "    funca()\n",
    "except Exception as ex:\n",
    "    print('handled')\n",
    "    print('type of exception: {0} '.format(type(ex).__name__))\n",
    "    print('type of exception: {0} '.format(ex.args))"
   ]
  },
  {
   "cell_type": "code",
   "execution_count": 10,
   "metadata": {},
   "outputs": [],
   "source": [
    "def funca():\n",
    "    try:\n",
    "        print('testing some funca')\n",
    "        raise ValueError(5, 6)\n",
    "    except NameError:\n",
    "        print(\"name is wrong\")"
   ]
  },
  {
   "cell_type": "code",
   "execution_count": 15,
   "metadata": {},
   "outputs": [
    {
     "name": "stdout",
     "output_type": "stream",
     "text": [
      "testing some funca\n",
      "handled\n",
      "type of exception: ValueError \n",
      "type of exception: (5, 6) \n"
     ]
    }
   ],
   "source": [
    "try:\n",
    "    funca()\n",
    "except Exception as ex:\n",
    "    print('handled')\n",
    "    print('type of exception: {0} '.format(type(ex).__name__))\n",
    "    print('type of exception: {} ' .format(ex.args))"
   ]
  },
  {
   "cell_type": "code",
   "execution_count": 16,
   "metadata": {},
   "outputs": [],
   "source": [
    "import sys"
   ]
  },
  {
   "cell_type": "code",
   "execution_count": 17,
   "metadata": {},
   "outputs": [
    {
     "name": "stdout",
     "output_type": "stream",
     "text": [
      "testing some funca\n",
      "handled\n"
     ]
    }
   ],
   "source": [
    "try:\n",
    "    funca()\n",
    "except Exception as ex:\n",
    "    print('handled')\n",
    "    data = sys.exc_info()"
   ]
  },
  {
   "cell_type": "code",
   "execution_count": 18,
   "metadata": {},
   "outputs": [
    {
     "data": {
      "text/plain": [
       "(ValueError, ValueError(5, 6), <traceback at 0x106fa4348>)"
      ]
     },
     "execution_count": 18,
     "metadata": {},
     "output_type": "execute_result"
    }
   ],
   "source": [
    "data"
   ]
  },
  {
   "cell_type": "code",
   "execution_count": 25,
   "metadata": {},
   "outputs": [
    {
     "name": "stdout",
     "output_type": "stream",
     "text": [
      "testing some funca\n",
      "handled\n",
      "<class 'ValueError'>\n",
      "<class 'ValueError'>\n",
      "2\n"
     ]
    }
   ],
   "source": [
    "try:\n",
    "    funca()\n",
    "except Exception as ex:\n",
    "    print('handled')\n",
    "    data = sys.exc_info()\n",
    "    print(sys.exc_info()[0])\n",
    "    print(type(sys.exc_info()[1]))\n",
    "    print(sys.exc_info()[2].tb_lineno) "
   ]
  },
  {
   "cell_type": "code",
   "execution_count": null,
   "metadata": {},
   "outputs": [],
   "source": []
  }
 ],
 "metadata": {
  "kernelspec": {
   "display_name": "Python 3",
   "language": "python",
   "name": "python3"
  },
  "language_info": {
   "codemirror_mode": {
    "name": "ipython",
    "version": 3
   },
   "file_extension": ".py",
   "mimetype": "text/x-python",
   "name": "python",
   "nbconvert_exporter": "python",
   "pygments_lexer": "ipython3",
   "version": "3.7.3"
  }
 },
 "nbformat": 4,
 "nbformat_minor": 2
}

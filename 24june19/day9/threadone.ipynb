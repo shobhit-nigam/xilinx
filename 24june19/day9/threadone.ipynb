{
 "cells": [
  {
   "cell_type": "code",
   "execution_count": 1,
   "metadata": {},
   "outputs": [],
   "source": [
    "import threading"
   ]
  },
  {
   "cell_type": "code",
   "execution_count": 2,
   "metadata": {},
   "outputs": [
    {
     "data": {
      "text/plain": [
       "[<_MainThread(MainThread, started 140735806808960)>,\n",
       " <Thread(Thread-2, started daemon 123145500409856)>,\n",
       " <Heartbeat(Thread-3, started daemon 123145505665024)>,\n",
       " <HistorySavingThread(IPythonHistorySavingThread, started 123145511993344)>,\n",
       " <ParentPollerUnix(Thread-1, started daemon 123145517248512)>]"
      ]
     },
     "execution_count": 2,
     "metadata": {},
     "output_type": "execute_result"
    }
   ],
   "source": [
    "threading.enumerate()"
   ]
  },
  {
   "cell_type": "code",
   "execution_count": 8,
   "metadata": {},
   "outputs": [],
   "source": [
    "import time \n",
    "\n",
    "def hello():\n",
    "    print('hello')\n",
    "    time.sleep(3)\n"
   ]
  },
  {
   "cell_type": "code",
   "execution_count": 9,
   "metadata": {},
   "outputs": [
    {
     "name": "stdout",
     "output_type": "stream",
     "text": [
      "hi\n",
      "hello\n",
      "hi again\n"
     ]
    }
   ],
   "source": [
    "print('hi')\n",
    "hello()\n",
    "print('hi again')"
   ]
  },
  {
   "cell_type": "code",
   "execution_count": 17,
   "metadata": {},
   "outputs": [],
   "source": [
    "def hello():\n",
    "    print('hello')\n",
    "    time.sleep(3)\n",
    "    \n",
    "t = threading.Timer(0, hello)"
   ]
  },
  {
   "cell_type": "code",
   "execution_count": 12,
   "metadata": {},
   "outputs": [
    {
     "name": "stdout",
     "output_type": "stream",
     "text": [
      "hi\n",
      "hi again\n",
      "hello\n"
     ]
    }
   ],
   "source": [
    "print('hi')\n",
    "t.start()\n",
    "print('hi again')"
   ]
  },
  {
   "cell_type": "code",
   "execution_count": 18,
   "metadata": {},
   "outputs": [
    {
     "name": "stdout",
     "output_type": "stream",
     "text": [
      "hi\n",
      "hello\n",
      "hi again\n"
     ]
    }
   ],
   "source": [
    "print('hi')\n",
    "t.start()\n",
    "print('hi again')"
   ]
  },
  {
   "cell_type": "code",
   "execution_count": 19,
   "metadata": {},
   "outputs": [],
   "source": [
    "def taska():\n",
    "    i = 0\n",
    "    for i in range (-5, 1):\n",
    "        print('A will take {} seconds more'.format(i))\n",
    "        time.sleep(1)\n",
    "        \n",
    "def taskb():\n",
    "    i = 0\n",
    "    for i in range (-10, 1):\n",
    "        print('B will take {} seconds more'.format(i))\n",
    "        time.sleep(1)       "
   ]
  },
  {
   "cell_type": "code",
   "execution_count": 20,
   "metadata": {},
   "outputs": [],
   "source": [
    "def main_task():\n",
    "    taska()\n",
    "    taskb()\n",
    "    for i in range (-5, 1):\n",
    "        print('main task will take {} seconds more'.format(i))\n",
    "        time.sleep(1)"
   ]
  },
  {
   "cell_type": "code",
   "execution_count": 21,
   "metadata": {},
   "outputs": [
    {
     "name": "stdout",
     "output_type": "stream",
     "text": [
      "A will take -5 seconds more\n",
      "A will take -4 seconds more\n",
      "A will take -3 seconds more\n",
      "A will take -2 seconds more\n",
      "A will take -1 seconds more\n",
      "A will take 0 seconds more\n",
      "B will take -10 seconds more\n",
      "B will take -9 seconds more\n",
      "B will take -8 seconds more\n",
      "B will take -7 seconds more\n",
      "B will take -6 seconds more\n",
      "B will take -5 seconds more\n",
      "B will take -4 seconds more\n",
      "B will take -3 seconds more\n",
      "B will take -2 seconds more\n",
      "B will take -1 seconds more\n",
      "B will take 0 seconds more\n",
      "main task will take -5 seconds more\n",
      "main task will take -4 seconds more\n",
      "main task will take -3 seconds more\n",
      "main task will take -2 seconds more\n",
      "main task will take -1 seconds more\n",
      "main task will take 0 seconds more\n"
     ]
    }
   ],
   "source": [
    "main_task()"
   ]
  },
  {
   "cell_type": "code",
   "execution_count": 27,
   "metadata": {},
   "outputs": [],
   "source": [
    "import threading\n",
    "\n",
    "def main_task():\n",
    "    ta = threading.Thread(target=taska)\n",
    "    tb = threading.Thread(target=taskb)\n",
    "    ta.start()\n",
    "    tb.start()\n",
    "    \n",
    "    for i in range (-5, 1):\n",
    "        print('main task will take {} seconds more'.format(i))\n",
    "        time.sleep(1)\n",
    "    \n",
    "    print('main will exit now')\n",
    "    "
   ]
  },
  {
   "cell_type": "code",
   "execution_count": 28,
   "metadata": {},
   "outputs": [
    {
     "name": "stdout",
     "output_type": "stream",
     "text": [
      "A will take -5 seconds more\n",
      "B will take -10 seconds moremain task will take -5 seconds more\n",
      "\n",
      "A will take -4 seconds moreB will take -9 seconds moremain task will take -4 seconds more\n",
      "\n",
      "\n",
      "A will take -3 seconds moreB will take -8 seconds moremain task will take -3 seconds more\n",
      "\n",
      "\n",
      "A will take -2 seconds moremain task will take -2 seconds more\n",
      "\n",
      "B will take -7 seconds more\n",
      "main task will take -1 seconds moreA will take -1 seconds more\n",
      "B will take -6 seconds more\n",
      "\n",
      "main task will take 0 seconds more\n",
      "A will take 0 seconds moreB will take -5 seconds more\n",
      "\n",
      "main will exit now\n",
      "B will take -4 seconds more\n",
      "B will take -3 seconds more\n",
      "B will take -2 seconds more\n",
      "B will take -1 seconds more\n",
      "B will take 0 seconds more\n"
     ]
    }
   ],
   "source": [
    "main_task()"
   ]
  },
  {
   "cell_type": "code",
   "execution_count": 29,
   "metadata": {},
   "outputs": [],
   "source": [
    "import threading\n",
    "\n",
    "def main_task_2():\n",
    "    ta = threading.Thread(target=taska)\n",
    "    tb = threading.Thread(target=taskb)\n",
    "    ta.start()\n",
    "    tb.start()\n",
    "    \n",
    "    for i in range (-5, 1):\n",
    "        print('main task will take {} seconds more'.format(i))\n",
    "        time.sleep(1)\n",
    "    \n",
    "    ta.join()\n",
    "    tb.join()\n",
    "    print('main will exit now')"
   ]
  },
  {
   "cell_type": "code",
   "execution_count": 31,
   "metadata": {
    "scrolled": true
   },
   "outputs": [
    {
     "name": "stdout",
     "output_type": "stream",
     "text": [
      "A will take -5 seconds more\n",
      "B will take -10 seconds more\n",
      "main task will take -5 seconds more\n",
      "A will take -4 seconds moreB will take -9 seconds more\n",
      "main task will take -4 seconds more\n",
      "\n",
      "B will take -8 seconds moremain task will take -3 seconds more\n",
      "\n",
      "A will take -3 seconds more\n",
      "main task will take -2 seconds moreB will take -7 seconds more\n",
      "\n",
      "A will take -2 seconds more\n",
      "main task will take -1 seconds moreB will take -6 seconds moreA will take -1 seconds more\n",
      "\n",
      "\n",
      "A will take 0 seconds moreB will take -5 seconds more\n",
      "main task will take 0 seconds more\n",
      "\n",
      "B will take -4 seconds more\n",
      "B will take -3 seconds more\n",
      "B will take -2 seconds more\n",
      "B will take -1 seconds more\n",
      "B will take 0 seconds more\n",
      "main will exit now\n"
     ]
    }
   ],
   "source": [
    "main_task_2()"
   ]
  },
  {
   "cell_type": "code",
   "execution_count": 36,
   "metadata": {},
   "outputs": [],
   "source": [
    "def taska(varx):\n",
    "    i = 0\n",
    "    print('A recieved ', varx)\n",
    "    for i in range (-5, 1):\n",
    "        print('A will take {} seconds more'.format(i))\n",
    "        time.sleep(1)\n",
    "        \n",
    "def taskb():\n",
    "    i = 0\n",
    "    for i in range (-10, 1):\n",
    "        print('B will take {} seconds more'.format(i))\n",
    "        time.sleep(1)  "
   ]
  },
  {
   "cell_type": "code",
   "execution_count": 33,
   "metadata": {},
   "outputs": [
    {
     "name": "stdout",
     "output_type": "stream",
     "text": [
      "A will take -5 seconds more\n",
      "A will take -4 seconds more\n",
      "A will take -3 seconds more\n",
      "A will take -2 seconds more\n",
      "A will take -1 seconds more\n",
      "A will take 0 seconds more\n"
     ]
    }
   ],
   "source": [
    "taska()"
   ]
  },
  {
   "cell_type": "code",
   "execution_count": 37,
   "metadata": {},
   "outputs": [],
   "source": [
    "import threading\n",
    "\n",
    "def main_task_2():\n",
    "    ta = threading.Thread(target=taska, args = (6,))\n",
    "    tb = threading.Thread(target=taskb)\n",
    "    ta.start()\n",
    "    tb.start()\n",
    "    \n",
    "    for i in range (-5, 1):\n",
    "        print('main task will take {} seconds more'.format(i))\n",
    "        time.sleep(1)\n",
    "    \n",
    "    ta.join()\n",
    "    tb.join()\n",
    "    print('main will exit now')"
   ]
  },
  {
   "cell_type": "code",
   "execution_count": 38,
   "metadata": {},
   "outputs": [
    {
     "name": "stdout",
     "output_type": "stream",
     "text": [
      "A recieved  6\n",
      "A will take -5 seconds more\n",
      "B will take -10 seconds more\n",
      "main task will take -5 seconds more\n",
      "A will take -4 seconds moreB will take -9 seconds moremain task will take -4 seconds more\n",
      "\n",
      "\n",
      "B will take -8 seconds moremain task will take -3 seconds moreA will take -3 seconds more\n",
      "\n",
      "\n",
      "B will take -7 seconds moreA will take -2 seconds moremain task will take -2 seconds more\n",
      "\n",
      "\n",
      "main task will take -1 seconds moreA will take -1 seconds moreB will take -6 seconds more\n",
      "\n",
      "\n",
      "B will take -5 seconds moreA will take 0 seconds moremain task will take 0 seconds more\n",
      "\n",
      "\n",
      "B will take -4 seconds more\n",
      "B will take -3 seconds more\n",
      "B will take -2 seconds more\n",
      "B will take -1 seconds more\n",
      "B will take 0 seconds more\n",
      "main will exit now\n"
     ]
    }
   ],
   "source": [
    "main_task_2()"
   ]
  },
  {
   "cell_type": "code",
   "execution_count": null,
   "metadata": {},
   "outputs": [],
   "source": []
  }
 ],
 "metadata": {
  "kernelspec": {
   "display_name": "Python 3",
   "language": "python",
   "name": "python3"
  },
  "language_info": {
   "codemirror_mode": {
    "name": "ipython",
    "version": 3
   },
   "file_extension": ".py",
   "mimetype": "text/x-python",
   "name": "python",
   "nbconvert_exporter": "python",
   "pygments_lexer": "ipython3",
   "version": "3.7.3"
  }
 },
 "nbformat": 4,
 "nbformat_minor": 2
}

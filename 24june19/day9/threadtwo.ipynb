{
 "cells": [
  {
   "cell_type": "code",
   "execution_count": 9,
   "metadata": {},
   "outputs": [],
   "source": [
    "import threading\n",
    "#global data\n",
    "x = 0\n",
    "vary = 0\n",
    "\n",
    "def funca():\n",
    "    global x\n",
    "    x = x + 1\n",
    "    \n",
    "def thread_task():\n",
    "    global vary\n",
    "    vary = vary + 1\n",
    "    print('starting task ', vary)\n",
    "    for var in range(1000000):\n",
    "        funca()\n",
    "    print('ending task ', vary)\n",
    "    \n",
    "def main_task():\n",
    "    ta = threading.Thread(target=thread_task, name='one')\n",
    "    tb = threading.Thread(target=thread_task, name='two')\n",
    "    \n",
    "    ta.start()\n",
    "    tb.start()\n",
    "    \n",
    "    ta.join()\n",
    "    tb.join()"
   ]
  },
  {
   "cell_type": "code",
   "execution_count": 10,
   "metadata": {},
   "outputs": [
    {
     "name": "stdout",
     "output_type": "stream",
     "text": [
      "starting task  1\n",
      "starting task  2\n",
      "ending task  2\n",
      "ending task  2\n"
     ]
    }
   ],
   "source": [
    "main_task()"
   ]
  },
  {
   "cell_type": "code",
   "execution_count": 15,
   "metadata": {},
   "outputs": [],
   "source": [
    "import threading\n",
    "#global data\n",
    "x = 0\n",
    "vary = 0\n",
    "lock1 = threading.Lock()\n",
    "def funca():\n",
    "    global x\n",
    "    x = x + 1\n",
    "    \n",
    "def thread_task():\n",
    "    global vary\n",
    "    lock1.acquire()\n",
    "    vary = vary + 1\n",
    "    print('starting task ', vary)\n",
    "    for var in range(10000000):\n",
    "        funca()\n",
    "    print('ending task ', vary)\n",
    "    lock1.release()\n",
    "    \n",
    "def main_task():\n",
    "    ta = threading.Thread(target=thread_task, name='one')\n",
    "    tb = threading.Thread(target=thread_task, name='two')\n",
    "    \n",
    "    ta.start()\n",
    "    tb.start()\n",
    "    \n",
    "    ta.join()\n",
    "    tb.join()"
   ]
  },
  {
   "cell_type": "code",
   "execution_count": 16,
   "metadata": {},
   "outputs": [
    {
     "name": "stdout",
     "output_type": "stream",
     "text": [
      "starting task  1\n",
      "ending task  1\n",
      "starting task  2\n",
      "ending task  2\n"
     ]
    }
   ],
   "source": [
    "main_task()"
   ]
  },
  {
   "cell_type": "code",
   "execution_count": 19,
   "metadata": {},
   "outputs": [],
   "source": [
    "import threading\n",
    "#global data\n",
    "x = 0\n",
    "vary = 0\n",
    "lock1 = threading.Lock()\n",
    "lock2 = threading.Lock()\n",
    "def funca():\n",
    "    global x\n",
    "    x = x + 1\n",
    "    \n",
    "def thread_task():\n",
    "    global vary\n",
    "    print(threading.current_thread().name , ' is requesting lock')\n",
    "    lock1.acquire()\n",
    "    vary = vary + 1\n",
    "    print('starting task ', vary)\n",
    "    for var in range(40000000):\n",
    "        funca()\n",
    "    print('ending task ', vary)\n",
    "    lock1.release()\n",
    "    \n",
    "def main_task():\n",
    "    ta = threading.Thread(target=thread_task, name='one')\n",
    "    tb = threading.Thread(target=thread_task, name='two')\n",
    "    \n",
    "    ta.start()\n",
    "    tb.start()\n",
    "    \n",
    "    ta.join()\n",
    "    tb.join()"
   ]
  },
  {
   "cell_type": "code",
   "execution_count": 20,
   "metadata": {},
   "outputs": [
    {
     "name": "stdout",
     "output_type": "stream",
     "text": [
      "one  is requesting lock\n",
      "starting task  1\n",
      "two  is requesting lock\n",
      "ending task  1\n",
      "starting task  2\n",
      "ending task  2\n"
     ]
    }
   ],
   "source": [
    "main_task()"
   ]
  },
  {
   "cell_type": "code",
   "execution_count": null,
   "metadata": {},
   "outputs": [],
   "source": []
  }
 ],
 "metadata": {
  "kernelspec": {
   "display_name": "Python 3",
   "language": "python",
   "name": "python3"
  },
  "language_info": {
   "codemirror_mode": {
    "name": "ipython",
    "version": 3
   },
   "file_extension": ".py",
   "mimetype": "text/x-python",
   "name": "python",
   "nbconvert_exporter": "python",
   "pygments_lexer": "ipython3",
   "version": "3.7.3"
  }
 },
 "nbformat": 4,
 "nbformat_minor": 2
}
